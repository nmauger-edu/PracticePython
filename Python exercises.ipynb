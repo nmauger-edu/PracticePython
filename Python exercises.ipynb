{
 "cells": [
  {
   "cell_type": "markdown",
   "metadata": {},
   "source": [
    "## python online : https://repl.it/languages/python\n",
    "\n",
    "\n",
    "**1 - User Input**\n",
    "http://www.practicepython.org/exercise/2014/01/29/01-character-input.html"
   ]
  },
  {
   "cell_type": "code",
   "execution_count": null,
   "metadata": {
    "collapsed": true,
    "scrolled": true
   },
   "outputs": [],
   "source": [
    "name = input('What''s your name ? ')\n",
    "age = ''\n",
    "redo = True\n",
    "while redo:\n",
    "    try:\n",
    "        age = int(input('How old are you ? '))\n",
    "        redo = False\n",
    "    except:\n",
    "        redo = True\n",
    "\n",
    "year = 2017 - int(age) + 100\n",
    "\n",
    "print('Hi {}, you are {} year''s old, and you''ll be 100 in {}'.format(name, age, year))\n"
   ]
  },
  {
   "cell_type": "markdown",
   "metadata": {},
   "source": [
    "--------\n",
    "**2 - Even or Odd ? :**\n",
    "http://www.practicepython.org/exercise/2014/02/05/02-odd-or-even.html"
   ]
  },
  {
   "cell_type": "code",
   "execution_count": null,
   "metadata": {
    "collapsed": true
   },
   "outputs": [],
   "source": [
    "num = int(input('Enter a number: '))\n",
    "if num%2 == 0:\n",
    "    print('{} is even'.format(num))\n",
    "else:\n",
    "    print('{} is odd'.format(num))"
   ]
  },
  {
   "cell_type": "markdown",
   "metadata": {},
   "source": [
    "----\n",
    "**3 - Pick element less than...**\n",
    "http://www.practicepython.org/exercise/2014/02/15/03-list-less-than-ten.html"
   ]
  },
  {
   "cell_type": "code",
   "execution_count": null,
   "metadata": {
    "collapsed": true
   },
   "outputs": [],
   "source": [
    "a = [1, 1, 2, 3, 5, 8, 13, 21, 34, 55, 89]\n",
    "lessthan5 = list(filter(lambda x: x <= 5, a))\n",
    "print(lessthan5)"
   ]
  },
  {
   "cell_type": "markdown",
   "metadata": {},
   "source": [
    "----\n",
    "**4 - Divisors...**\n",
    "http://www.practicepython.org/exercise/2014/02/26/04-divisors.html\n"
   ]
  },
  {
   "cell_type": "code",
   "execution_count": null,
   "metadata": {
    "collapsed": true
   },
   "outputs": [],
   "source": [
    "num = int(input('Enter a number and I will print you all its divisors... '))\n",
    "divisors = list(filter(lambda x : num%x == 0, range(1, num)))\n",
    "print(divisors)"
   ]
  },
  {
   "cell_type": "markdown",
   "metadata": {},
   "source": [
    "----\n",
    "**5 - List overlap: **http://www.practicepython.org/exercise/2014/03/05/05-list-overlap.html"
   ]
  },
  {
   "cell_type": "code",
   "execution_count": null,
   "metadata": {
    "collapsed": true
   },
   "outputs": [],
   "source": [
    "a = [1, 1, 2, 3, 5, 8, 13, 21, 34, 55, 89]\n",
    "b = [1, 2, 3, 4, 5, 6, 7, 8, 9, 10, 11, 12, 13]\n",
    "\n",
    "# \"Set\" acts as a list without duplicates... \n",
    "common_values = list(filter(lambda x: x in b, set(a)))\n",
    "print('Common values are : ', common_values)\n",
    "\n",
    "# Another version (one-liner)\n",
    "print([x for x in set(a) if x in set(b)])\n",
    "\n",
    "#last version\n",
    "print(list(set(a)&set(b)))"
   ]
  },
  {
   "cell_type": "markdown",
   "metadata": {},
   "source": [
    "----\n",
    "**6 - Is it a palindrome ?**\n",
    "http://www.practicepython.org/exercise/2014/03/12/06-string-lists.html"
   ]
  },
  {
   "cell_type": "code",
   "execution_count": null,
   "metadata": {
    "collapsed": true
   },
   "outputs": [],
   "source": [
    "sentence = input('Please enter a palindrome ')\n",
    "\n",
    "#[x for x in set(sentence) if (x = sentence[1:-1])]\n",
    "if sentence == sentence[::-1]:\n",
    "    print('The sentence {} is a palindrome !!!'.format(sentence))\n",
    "else:\n",
    "    print('Sorry, {} is not a palindrome...'.format(sentence))\n",
    "\n",
    "\n",
    "\n"
   ]
  },
  {
   "cell_type": "code",
   "execution_count": null,
   "metadata": {
    "collapsed": true
   },
   "outputs": [],
   "source": [
    "sentence = 'Norbert'\n",
    "\n",
    "print(sentence[1:5:2]) # starting index, ending index (non inclusive), step.\n",
    "print(sentence[:5:2])\n",
    "print(sentence[::-1])\n",
    "\n",
    "print(sentence[:0:-1])\n",
    "print(sentence[:2:-1])\n"
   ]
  },
  {
   "cell_type": "markdown",
   "metadata": {
    "collapsed": true
   },
   "source": [
    "----\n",
    "**7 - List Comprehension** \n",
    "http://www.practicepython.org/exercise/2014/03/19/07-list-comprehensions.html\n",
    "\n",
    "Extract only even numbers from the list\n"
   ]
  },
  {
   "cell_type": "code",
   "execution_count": null,
   "metadata": {
    "collapsed": true
   },
   "outputs": [],
   "source": [
    "a = [1, 4, 9, 16, 25, 36, 49, 64, 81, 100]\n",
    "even1 = list(filter(lambda x: x%2==0, a))\n",
    "print(even1)\n",
    "even2 = [x for x in a if x%2==0]\n",
    "print(even2)"
   ]
  },
  {
   "cell_type": "code",
   "execution_count": null,
   "metadata": {
    "collapsed": true
   },
   "outputs": [],
   "source": [
    "years_of_birth = [1990, 1991, 1990, 1990, 1992, 1991]\n",
    "ages = [2014 - year for year in years_of_birth]\n",
    "print(ages)\n",
    "list(map(lambda x: 2017-x, years_of_birth))"
   ]
  },
  {
   "cell_type": "markdown",
   "metadata": {},
   "source": [
    "----\n",
    "**8 - Rock, Paper, Scissors** : http://www.practicepython.org/exercise/2014/03/26/08-rock-paper-scissors.html\n",
    "        "
   ]
  },
  {
   "cell_type": "code",
   "execution_count": null,
   "metadata": {
    "collapsed": true
   },
   "outputs": [],
   "source": [
    "import random as random\n",
    "\n",
    "again = True\n",
    "choice = ['scissors', 'rock', 'paper']\n",
    "while again:\n",
    "    while True:\n",
    "        str = input('paper, rock or scissors ? ')\n",
    "        try:\n",
    "            player = choice.index(str)\n",
    "        except:\n",
    "            pass\n",
    "        else:\n",
    "            break\n",
    "    computer = random.randint(0,2)\n",
    "    print('You have choosen {}'.format(choice[player]))\n",
    "    print('Computer has choosen {}'.format(choice[computer]))\n",
    "    if player == computer:\n",
    "        print('It''s a draw')\n",
    "    elif computer > player: \n",
    "        if computer+player!=2:\n",
    "            print('Computer wins')\n",
    "        else:\n",
    "            print('You win !')\n",
    "    elif player > computer:\n",
    "        if computer+player!=2:\n",
    "            print('You win !')\n",
    "        else:\n",
    "            print('Computer wins')\n",
    "            \n",
    "        \n",
    "    again = input('Do you want to play again ? (yes/no)')\n",
    "    again = (again == 'yes')\n",
    "    \n"
   ]
  },
  {
   "cell_type": "markdown",
   "metadata": {},
   "source": [
    "----\n",
    "** Guess a number ** http://www.practicepython.org/exercise/2014/04/02/09-guessing-game-one.html\n"
   ]
  },
  {
   "cell_type": "code",
   "execution_count": null,
   "metadata": {
    "collapsed": true
   },
   "outputs": [],
   "source": [
    "import random\n",
    "\n",
    "limit = 99\n",
    "number = random.randint(1,limit)\n",
    "print('I have chosen a number between 1 and {}... try to guess it quickly'.format(limit))\n",
    "found = False\n",
    "tries = 0\n",
    "while not found:\n",
    "    tries = tries+1\n",
    "    while True:\n",
    "        try:\n",
    "            guess = int(input('Guess my number: '))\n",
    "        except:\n",
    "            pass\n",
    "        else:\n",
    "            break\n",
    "        \n",
    "    if guess == number:\n",
    "        found = True\n",
    "    elif guess < number:\n",
    "        print('My number is bigger...')\n",
    "    else:\n",
    "        print('My number is smaller...')\n",
    "\n",
    "print('You''ve found my number in {} attempts'.format(tries))\n",
    "\n",
    "            "
   ]
  },
  {
   "cell_type": "markdown",
   "metadata": {},
   "source": [
    "----\n",
    "**List Overlap Comprehensions** : http://www.practicepython.org/exercise/2014/04/10/10-list-overlap-comprehensions.html\n"
   ]
  },
  {
   "cell_type": "code",
   "execution_count": null,
   "metadata": {
    "collapsed": true
   },
   "outputs": [],
   "source": [
    "a = [1, 1, 2, 3, 5, 8, 13, 21, 34, 55, 89]\n",
    "b = [1, 2, 3, 4, 5, 6, 7, 8, 9, 10, 11, 12, 13]\n",
    "\n",
    "common = set([x for x in a if x in set(b)])\n",
    "print(common)"
   ]
  },
  {
   "cell_type": "markdown",
   "metadata": {
    "collapsed": true
   },
   "source": [
    "----\n",
    "**Check Primality Functions** : http://www.practicepython.org/exercise/2014/04/16/11-check-primality-functions.html\n"
   ]
  },
  {
   "cell_type": "code",
   "execution_count": null,
   "metadata": {
    "collapsed": true
   },
   "outputs": [],
   "source": [
    "def hasDivisors(number):\n",
    "    divisors = list(filter(lambda x : number % x == 0, range(2,number-1)))\n",
    "    if not divisors:\n",
    "        return False, 0\n",
    "    else:\n",
    "        return True, divisors\n",
    "\n",
    "while True:\n",
    "    try:\n",
    "        num = int(input('Please enter a number to check if it is a primary number or not: '))\n",
    "    except:\n",
    "        pass\n",
    "    else:\n",
    "        break\n",
    "    \n",
    "hasDivisor, divisors = hasDivisors(num)\n",
    "if hasDivisor:\n",
    "    print('Number {} is not a primary number.[{}]'.format(num, divisors))\n",
    "else:\n",
    "    print('Number {} is primary !'.format(num))\n",
    "    \n",
    "         "
   ]
  },
  {
   "cell_type": "markdown",
   "metadata": {},
   "source": [
    "----\n",
    "**List Ends** : http://www.practicepython.org/exercise/2014/04/25/12-list-ends.html\n",
    "        "
   ]
  },
  {
   "cell_type": "code",
   "execution_count": null,
   "metadata": {
    "collapsed": true
   },
   "outputs": [],
   "source": [
    "def getEnds(numlist):\n",
    "    return numlist[0:1] + numlist[-1:]\n",
    "\n",
    "a = [5, 10, 15, 20, 25]\n",
    "getEnds(a)\n"
   ]
  },
  {
   "cell_type": "markdown",
   "metadata": {},
   "source": [
    "----\n",
    "**Fibonacci** : http://www.practicepython.org/exercise/2014/04/30/13-fibonacci.html\n"
   ]
  },
  {
   "cell_type": "code",
   "execution_count": null,
   "metadata": {
    "collapsed": true
   },
   "outputs": [],
   "source": [
    "def completeFibo(fibo, num):\n",
    "    for i in range(2, num):\n",
    "        fibo.append(fibo[i-1] + fibo[i-2])\n",
    "    \n",
    "while True:\n",
    "    try:\n",
    "        num = int(input('How many fibonacci numbers do you want ? '))\n",
    "    except:\n",
    "        pass\n",
    "    else:\n",
    "        break\n",
    "\n",
    "fibo=[1,1]\n",
    "completeFibo(fibo, num)\n",
    "\n",
    "for i in range(num):\n",
    "    print(fibo[i])\n",
    "\n",
    "\n"
   ]
  },
  {
   "cell_type": "markdown",
   "metadata": {},
   "source": [
    "----\n",
    "**List Remove Duplicates** : http://www.practicepython.org/exercise/2014/05/15/14-list-remove-duplicates.html"
   ]
  },
  {
   "cell_type": "code",
   "execution_count": null,
   "metadata": {
    "collapsed": true
   },
   "outputs": [],
   "source": [
    "def removeDuplicates(l):\n",
    "    return list(set(l))\n",
    "\n",
    "\n",
    "a = [1,3,\"Norbert\", \"Louise\", 6, 1, 5, \"Norbert\"]\n",
    "\n",
    "removeDuplicates(a)\n"
   ]
  },
  {
   "cell_type": "markdown",
   "metadata": {},
   "source": [
    "----\n",
    "** Reverse word order ** : http://www.practicepython.org/exercise/2014/05/21/15-reverse-word-order.html\n"
   ]
  },
  {
   "cell_type": "code",
   "execution_count": null,
   "metadata": {
    "collapsed": true
   },
   "outputs": [],
   "source": [
    "sentence = \"Norbert is my name, beautiful isn't it?\"\n",
    "\n",
    "words = sentence.split()\n",
    "print(words)\n",
    "reversedSentence = ' '.join(words[::-1])\n",
    "print(reversedSentence)"
   ]
  },
  {
   "cell_type": "markdown",
   "metadata": {
    "collapsed": true
   },
   "source": [
    "----\n",
    "**Password Generator:** http://www.practicepython.org/exercise/2014/05/28/16-password-generator.html"
   ]
  },
  {
   "cell_type": "code",
   "execution_count": null,
   "metadata": {
    "collapsed": true
   },
   "outputs": [],
   "source": [
    "import string\n",
    "import random\n",
    "\n",
    "ints = ''\n",
    "for i in range(10):\n",
    "    ints = ints+str(i)\n",
    "\n",
    "specials = '!@#$%^&*()?'\n",
    "\n",
    "\n",
    "print('PASSWORD GENERATOR')\n",
    "while True:\n",
    "    try:\n",
    "        strength = int(input('Select the password strength (1-5), 1 is the weaker, 5 the stronger: '))\n",
    "        if strength < 1 or strength > 5:\n",
    "            raise\n",
    "    except:\n",
    "        pass\n",
    "    else:\n",
    "        break\n",
    "\n",
    "password_length=3*(strength+1)\n",
    "if strength <= 2:\n",
    "    charset = string.ascii_lowercase\n",
    "elif strength == 3:\n",
    "    charset = string.ascii_letters\n",
    "elif strength == 4:\n",
    "    charset = string.ascii_letters + ints\n",
    "elif strength == 5:\n",
    "    charset = string.ascii_letters + ints + specials\n",
    "    \n",
    "print('Charset = ', charset)\n",
    "    \n",
    "password = ''.join(random.choice(charset) for x in range(password_length))\n",
    "print('Your password is : {}'.format(password))"
   ]
  },
  {
   "cell_type": "markdown",
   "metadata": {},
   "source": [
    "----\n",
    "** Decode A Web Page : ** http://www.practicepython.org/exercise/2014/06/06/17-decode-a-web-page.html\n",
    "\n",
    "Use beautiful Soup to display all titles in the NYT homepage\n"
   ]
  },
  {
   "cell_type": "code",
   "execution_count": null,
   "metadata": {
    "collapsed": true
   },
   "outputs": [],
   "source": [
    "import requests\n",
    "from bs4 import BeautifulSoup\n",
    "\n",
    "url = 'https://www.nytimes.com/'\n",
    "r = requests.get(url)\n",
    "\n",
    "r_cookies = r.cookies\n",
    "r_headers = r.headers\n",
    "r_html = r.text\n",
    "\n",
    "#print(r_cookies)\n",
    "#print(r_headers)\n",
    "#print(r_html)\n",
    "\n",
    "soup = BeautifulSoup(r_html, 'lxml')\n",
    "#print(soup)\n",
    "\n",
    "story_headings = soup.find_all(class_='story-heading')\n",
    "for story_heading in story_headings:\n",
    "    if story_heading.a:\n",
    "        print(story_heading.a.text.strip())\n",
    "    else:\n",
    "        print(story_heading.contents[0].strip())\n"
   ]
  },
  {
   "cell_type": "markdown",
   "metadata": {},
   "source": [
    "----\n",
    "** Cows And Bulls **: http://www.practicepython.org/exercise/2014/07/05/18-cows-and-bulls.html"
   ]
  },
  {
   "cell_type": "code",
   "execution_count": null,
   "metadata": {
    "collapsed": true
   },
   "outputs": [],
   "source": [
    "# generate a 4 digits number, then the user must guess it. He gets a cow if the number is correctly placed,\n",
    "# and a bull if incorrectly placed.\n",
    "import random\n",
    "number_set = '11223344556677889900'\n",
    "\n",
    "number_to_guess = [random.choice(number_set) for i in range(4)]\n",
    "#print(number_to_guess)\n",
    "\n",
    "print(\"Try to guess a 4 digit number. \\n Each time you correctly place a number, you get a cow, each time it is incorrectly placed, you'll get a bull\\n\")\n",
    "finished = False\n",
    "tries = 0\n",
    "while not finished:\n",
    "    tries += 1\n",
    "    # Getting the user number\n",
    "    while True:\n",
    "        try:\n",
    "            number = int(input(\"{0:2d} - Guess my number: \".format(tries)))\n",
    "            if number < 0 or number > 9999:\n",
    "                raise BaseException\n",
    "        except:\n",
    "            pass\n",
    "        else:\n",
    "            break\n",
    "            \n",
    "    num = list('{0:04d}'.format(number))\n",
    "    print('Number: ', num)\n",
    "    \n",
    "    cow = 0\n",
    "    bull = 0\n",
    "    \n",
    "    for idx, n in enumerate(num):\n",
    "        if n == number_to_guess[idx]:\n",
    "            cow += 1\n",
    "        elif n in number_to_guess:\n",
    "            bull += 1\n",
    "        \n",
    "    if cow == 4:\n",
    "        print('You win! You correctly guessed the number ', number_to_guess)\n",
    "        finished = True\n",
    "    else:\n",
    "        print('{} cows, {} bulls'.format(cow, bull))\n",
    "    \n",
    "     "
   ]
  },
  {
   "cell_type": "markdown",
   "metadata": {},
   "source": [
    "----\n",
    "** Decode A Web Page Two ** : http://www.practicepython.org/exercise/2014/07/14/19-decode-a-web-page-two.html\n",
    "\n",
    "as the vanity fair article is now on one page, I use the dpreview D850 review : https://www.dpreview.com/reviews/nikon-d850\n"
   ]
  },
  {
   "cell_type": "code",
   "execution_count": null,
   "metadata": {
    "collapsed": true
   },
   "outputs": [],
   "source": [
    "import requests\n",
    "from bs4 import BeautifulSoup\n",
    "\n",
    "\n",
    "next_page_url = 'https://www.dpreview.com/reviews/nikon-d850'\n",
    "with open('article.txt', 'w') as file:\n",
    "    page_num = 0\n",
    "    while next_page_url != '':\n",
    "        page_num += 1\n",
    "        file.write('\\n\\n\\n\\t*** Page {0:3d} ***\\n\\n\\n\\n'.format(page_num))\n",
    "\n",
    "        r = requests.get(next_page_url)\n",
    "        r_html = r.text\n",
    "        soup = BeautifulSoup(r_html, 'lxml')\n",
    "        article = soup.find('div', {\"class\":\"articleBody\"}).text.strip()\n",
    "        print('\\n\\n**************\\n', article)\n",
    "        file.write(article)\n",
    "        next_page = soup.find('span', {\"class\":\"next\"})\n",
    "        next_page_url = next_page.a['href']\n",
    "\n"
   ]
  },
  {
   "cell_type": "markdown",
   "metadata": {},
   "source": [
    "----\n",
    "** Element Search - Binary search ** : http://www.practicepython.org/exercise/2014/11/11/20-element-search.html"
   ]
  },
  {
   "cell_type": "code",
   "execution_count": null,
   "metadata": {
    "collapsed": true
   },
   "outputs": [],
   "source": [
    "import random\n",
    "\n",
    "import time\n",
    "\n",
    "\n",
    "numlist = [1, 3, 5, 30, 42, 43, 500]\n",
    "numlist = sorted([random.randint(1,999) for i in range(200)])\n",
    "\n",
    "print(numlist)\n",
    "\n",
    "while True:\n",
    "    try:\n",
    "        num = int(input('Type in a number and we''ll check if it exists in the list: '))\n",
    "    except:\n",
    "        pass\n",
    "    else:\n",
    "        break\n",
    "\n",
    "## Search number classical method\n",
    "start = time.process_time()\n",
    "\n",
    "found = False\n",
    "pos = 0\n",
    "for idx, n in enumerate(numlist):\n",
    "    if n == num:\n",
    "        found = True\n",
    "        pos = idx\n",
    "        break\n",
    "\n",
    "end = time.process_time()\n",
    "elapsedTime = int((end-start) * 1000000)\n",
    "if found:\n",
    "    print('Your number has been found in the list at pos {0} in {1} µs'.format(pos, elapsedTime))\n",
    "else:\n",
    "    print('Sorry, your number has not been found in the list... in {0} µs'.format(elapsedTime))\n",
    "    \n",
    "\n",
    "## binary search\n",
    "print('\\n** BINARY SEARCH **')\n",
    "found = False\n",
    "finished = False\n",
    "nl = numlist\n",
    "pos = 0\n",
    "start = time.process_time()\n",
    "start_idx = 0\n",
    "end_idx = len(nl)\n",
    "while not found and not finished:\n",
    "    length = end_idx - start_idx\n",
    "    if length > 1:\n",
    "        middle_idx = start_idx + length//2\n",
    "        n = nl[middle_idx] \n",
    "        if n < num:\n",
    "            start_idx = middle_idx\n",
    "            #print('using right list : {}'.format(nl[start_idx:end_idx]))\n",
    "        elif n > num:\n",
    "            end_idx = middle_idx\n",
    "            #print('using left list : {}'.format(nl[start_idx:end_idx]))\n",
    "        else:\n",
    "            found = True\n",
    "            pos = middle_idx\n",
    "    \n",
    "    else:\n",
    "        if nl[0] == num:\n",
    "            found = True\n",
    "            pos = 0\n",
    "        else:\n",
    "            finished = True\n",
    "\n",
    "end = time.process_time()\n",
    "elapsedTime = int((end-start) * 1000000)\n",
    "\n",
    "if found:\n",
    "    print('Your number has been found in the list at pos {0} in {1} µs'.format(pos, elapsedTime))\n",
    "else:\n",
    "    print('Sorry, your number has not been found in the list... in {0} µs'.format(elapsedTime))\n",
    "\n",
    "\n",
    "\n",
    "    "
   ]
  },
  {
   "cell_type": "markdown",
   "metadata": {},
   "source": [
    "----\n",
    "** Write To A File : ** http://www.practicepython.org/exercise/2014/11/30/21-write-to-a-file.html"
   ]
  },
  {
   "cell_type": "code",
   "execution_count": null,
   "metadata": {
    "collapsed": true
   },
   "outputs": [],
   "source": [
    "## The code is inside the decode a webpage TWO\n"
   ]
  },
  {
   "cell_type": "markdown",
   "metadata": {},
   "source": [
    "----\n",
    "** Read From File : ** http://www.practicepython.org/exercise/2014/12/06/22-read-from-file.html\n",
    "\n",
    "The names text file contains names, we have to extract all of those names and count how many time they appear in the file.\n"
   ]
  },
  {
   "cell_type": "code",
   "execution_count": null,
   "metadata": {
    "collapsed": true
   },
   "outputs": [],
   "source": [
    "def file_len(fname):\n",
    "    with open(fname) as f:\n",
    "        for i, l in enumerate(f):\n",
    "            pass\n",
    "    return i + 1\n",
    "\n",
    "print(\"The file has {} lines\".format(file_len(\"names.txt\")))\n",
    "\n",
    "with open(\"names.txt\", \"r\") as names_file:\n",
    "    names = names_file.read()\n",
    "    names = names[:-1] # remove last empty item\n",
    "    names = names.split('\\n')\n",
    "    l = set(names)\n",
    "    print(l)\n",
    "\n",
    "    # create dictionnary\n",
    "    dict_names = {n: 0 for n in l}\n",
    "    for n in names:\n",
    "        dict_names[n] += 1\n",
    "    print(dict_names)\n",
    "    \n",
    "    \n",
    "        "
   ]
  },
  {
   "cell_type": "markdown",
   "metadata": {},
   "source": [
    "----\n",
    "Same exercise with a bigger file, subdirectory represents category, then filename. "
   ]
  },
  {
   "cell_type": "code",
   "execution_count": null,
   "metadata": {
    "collapsed": true
   },
   "outputs": [],
   "source": [
    "import re\n",
    "import pprint\n",
    "\n",
    "def file_len(fname):\n",
    "    with open(fname) as f:\n",
    "        for i, l in enumerate(f):\n",
    "            pass\n",
    "    return i + 1\n",
    "\n",
    "print(\"The file has {} lines\".format(file_len(\"sun_images_categories.txt\")))\n",
    "\n",
    "# get all images (and only images)\n",
    "with open(\"sun_images_categories.txt\", \"r\") as images_file:\n",
    "    full_path = images_file.read()\n",
    "    full_path = full_path[:-1] # remove last empty item\n",
    "    full_path = full_path.split('\\n')\n",
    "    filenames = []\n",
    "    for f in full_path:\n",
    "        filename = re.search('([^/]+$)', f)\n",
    "        if filename:\n",
    "            #print(filename.group(1))\n",
    "            filenames.append(filename.group(1))\n",
    "\n",
    "    print(\"Found {} different images\".format(len(set(filenames))))\n",
    "    \n",
    "    categories=[]\n",
    "    for f in full_path:\n",
    "        category = re.search('^\\/.*\\/(.*)\\/.*$', f)\n",
    "        if category:\n",
    "            categories.append(category.group(1))\n",
    "\n",
    "    print(\"Found {} different categories\".format(len(set(categories))))\n",
    "    \n",
    "    dict_categories={}\n",
    "    for f in full_path:\n",
    "        category = re.search('^\\/.*\\/(.*)\\/.*$', f).group(1)\n",
    "        if category in dict_categories.keys():\n",
    "            dict_categories[category] += 1\n",
    "        else:\n",
    "            dict_categories[category] = 1\n",
    "\n",
    "    pp = pprint.PrettyPrinter(indent=4)\n",
    "    pp.pprint(dict_categories)\n",
    "    "
   ]
  },
  {
   "cell_type": "markdown",
   "metadata": {
    "collapsed": true
   },
   "source": [
    "----\n",
    "** File overlap ** : http://www.practicepython.org/exercise/2014/12/14/23-file-overlap.html"
   ]
  },
  {
   "cell_type": "code",
   "execution_count": null,
   "metadata": {
    "collapsed": true
   },
   "outputs": [],
   "source": [
    "with open(\"primes.txt\",\"r\") as fprimes:\n",
    "    primes = fprimes.read()\n",
    "    \n",
    "with open(\"happys.txt\",\"r\") as fhappys:\n",
    "    happys = fhappys.read()    \n",
    "    \n",
    "primes = primes.split('\\n')\n",
    "happys = happys.split('\\n')\n",
    "\n",
    "primes = [int(x) for x in primes]\n",
    "happys = list(map(lambda x: int(x), happys)) # using map just for fun and to remind it...\n",
    "\n",
    "\n",
    "common = []\n",
    "for p in primes:\n",
    "    for h in happys:\n",
    "        if(h == p):\n",
    "            common.append(h)\n",
    "print(common)"
   ]
  },
  {
   "cell_type": "code",
   "execution_count": null,
   "metadata": {
    "collapsed": true
   },
   "outputs": [],
   "source": [
    "#Refresher\n",
    "# list\n",
    "liste = []\n",
    "liste.append('a')\n",
    "liste.append('b')\n",
    "liste.append('a')\n",
    "print(liste)\n",
    "\n",
    "#dict\n",
    "dico = {}\n",
    "dico.update({'a':'aaa'})\n",
    "dico['b'] = 'bbb'\n",
    "dico[3] = 33\n",
    "\n",
    "print(dico)\n",
    "print(dico['b'])\n",
    "\n",
    "#set\n",
    "ensemble = set(liste)\n",
    "ensemble.add('c')\n",
    "ensemble.add('a')\n",
    "print(ensemble)\n",
    "\n",
    "ensemble = set({})\n",
    "ensemble.add(1)\n",
    "ensemble.add(2)\n",
    "ensemble.add(1)\n",
    "print(ensemble)\n"
   ]
  },
  {
   "cell_type": "markdown",
   "metadata": {},
   "source": [
    "----\n",
    "** Draw A Game Board ** : http://www.practicepython.org/exercise/2014/12/27/24-draw-a-game-board.html"
   ]
  },
  {
   "cell_type": "code",
   "execution_count": null,
   "metadata": {
    "collapsed": true
   },
   "outputs": [],
   "source": [
    "while True:\n",
    "    try:\n",
    "        board_size = int(input(\"Please enter the board size you want to display: \"))\n",
    "    except:\n",
    "        pass\n",
    "    else:\n",
    "        if board_size < 1:\n",
    "            #raise Exception('Board too small... must be > 1')\n",
    "            print('Board too small... must be > 1')\n",
    "        else:\n",
    "            break\n",
    "        \n",
    "def draw_border(size=3):\n",
    "    print('#'*((size*4)+1))\n",
    "    \n",
    "def draw_cell(size=3):\n",
    "    print('#   ' + ('|' + '   ')*(size-1) + '#')\n",
    "\n",
    "def draw_hz_limit(size=3):\n",
    "    print('#---' + ('+' + '---')*(size-1) + '#')\n",
    "    \n",
    "def draw_board(size=3):\n",
    "    draw_border(size)\n",
    "    draw_cell(size)\n",
    "    for i in range(size-1):\n",
    "        draw_hz_limit(size)\n",
    "        draw_cell(size)\n",
    "    draw_border(size)\n",
    "    \n",
    "draw_board(board_size)"
   ]
  },
  {
   "cell_type": "markdown",
   "metadata": {},
   "source": [
    "----\n",
    "** Guessing Game Two : ** : http://www.practicepython.org/exercise/2015/11/01/25-guessing-game-two.html"
   ]
  },
  {
   "cell_type": "code",
   "execution_count": null,
   "metadata": {
    "collapsed": true
   },
   "outputs": [],
   "source": [
    "n_min = 1\n",
    "n_max = 10\n",
    "\n",
    "print(\"Think of a number between {} and {}. I'll try to guess it. \".format(n_min, n_max))\n",
    "print(\"Tell me if your number is bigger than mine (+) or smaller (-)\")\n",
    "\n",
    "found = False\n",
    "tries = 0\n",
    "while not found:\n",
    "    tries += 1\n",
    "    new_guess = (n_min + n_max) // 2\n",
    "    if (new_guess == guess):\n",
    "        print(\"Are your sure ???\")\n",
    "    guess = new_guess\n",
    "    print(\"I guess {}. Is your number bigger (+) or smaller (-) than it? (=) if I've found\".format(guess))\n",
    "    while True:\n",
    "        try:\n",
    "            answer = input(\"+/- ? \")\n",
    "        except:\n",
    "            pass\n",
    "        else:\n",
    "            if answer == '+':\n",
    "                n_min = guess + 1\n",
    "                break\n",
    "            elif answer == '-':\n",
    "                n_max = guess - 1\n",
    "                break\n",
    "            elif answer == '=':\n",
    "                found = True\n",
    "                break\n",
    "            else:\n",
    "                pass\n",
    "    \n",
    "    \n",
    "print(\"your number was {}. I found it in {} tries\".format(guess, tries))"
   ]
  },
  {
   "cell_type": "markdown",
   "metadata": {},
   "source": [
    "----\n",
    "** Check Tic Tac Toe : ** http://www.practicepython.org/exercise/2015/11/16/26-check-tic-tac-toe.html"
   ]
  },
  {
   "cell_type": "code",
   "execution_count": null,
   "metadata": {
    "collapsed": false
   },
   "outputs": [],
   "source": [
    "winner_is_2 = [[2, 2, 0],\n",
    "    [2, 1, 0],\n",
    "    [2, 1, 1]]\n",
    "\n",
    "winner_is_1 = [[1, 2, 0],\n",
    "    [2, 1, 0],\n",
    "    [2, 1, 1]]\n",
    "\n",
    "winner_is_also_1 = [[0, 'X', 0],\n",
    "    ['O', 'X', 0],\n",
    "    ['O', 'X', 1]]\n",
    "\n",
    "winner_diag = [[0,'O', 'X'],\n",
    "              ['0', 'X', 0],\n",
    "              ['X', 'O', 0]]\n",
    "\n",
    "no_winner = [[1, 2, 0],\n",
    "    [2, 1, 0],\n",
    "    [2, 1, 2]]\n",
    "\n",
    "winner_4_is_2 = [[1,2,1,0],\n",
    "                [0,2,1,2],\n",
    "                [2,2,2,1],\n",
    "                [1,2,1,1]]\n",
    "\n",
    "# check if a player has won (mean : 1 or 2 in a straight line, column, or the two diagonals)\n",
    "def check_winner(position, p1=1, p2=2):\n",
    "    \n",
    "    matrix = position\n",
    "    # transpose the matrix\n",
    "    matrix_t = list(zip(*matrix))\n",
    "\n",
    "    winner = 0\n",
    "    #check lines\n",
    "    \n",
    "    for player in (p1,p2):\n",
    "        for idx, l in enumerate(matrix):\n",
    "            print(\"evaluating line {} : {} for player {}\".format(idx, l, player))\n",
    "            if len(list(filter(lambda x: x==player, l))) == len(l):\n",
    "                if player == p1:\n",
    "                    winner = 1\n",
    "                else:\n",
    "                    winner = 2\n",
    "                break\n",
    "\n",
    "        #check columns with the help of transposed matrix\n",
    "        for idx, l in enumerate(matrix_t):\n",
    "            print(\"evaluating column {} : {} for player {}\".format(idx, l, player))\n",
    "            if len(list(filter(lambda x: x==player, l))) == len(l):\n",
    "                if player == p1:\n",
    "                    winner = 1\n",
    "                else:\n",
    "                    winner = 2\n",
    "                break\n",
    "\n",
    "        # check diagonals\n",
    "        ok_1 = True\n",
    "        ok_2 = True\n",
    "        for i,l in enumerate(matrix):\n",
    "            if matrix[i][i] != player:\n",
    "                ok_1 = False\n",
    "            if matrix[i][len(l)-i-1] != player:\n",
    "                ok_2 = False\n",
    "            \n",
    "            #for j,cell in enumerate(l):\n",
    "            #    if (i==j) and (cell != player):\n",
    "            #        ok_1 = False\n",
    "            #    if (i==len(l)-j) and (cell != player):\n",
    "            #        ok_2 = False\n",
    "\n",
    "        if ok_1 or ok_2:\n",
    "            if player == p1:\n",
    "                winner = 1\n",
    "            else:\n",
    "                winner = 2\n",
    "            break\n",
    "\n",
    "    if winner > 0:\n",
    "        print(\"Player {} has won the game\".format(winner))\n",
    "    else:\n",
    "        print(\"Nobody has won the game\")\n",
    "\n",
    "    return winner\n",
    "\n",
    "#check_winner(winner_is_also_1, 'X', 'O')\n",
    "check_winner(winner_diag, 'X', 'O')\n",
    "#check_winner(winner_4_is_2)\n",
    "\n",
    "        \n",
    "        \n",
    "    \n",
    "\n"
   ]
  },
  {
   "cell_type": "code",
   "execution_count": null,
   "metadata": {
    "collapsed": false
   },
   "outputs": [],
   "source": [
    "game = [[0,0,0],\n",
    "        [0,0,0],\n",
    "        [0,0,0]\n",
    "       ]\n",
    "\n",
    "def draw_border(size=3):\n",
    "    print('#'*((size*4)+1))\n",
    "    \n",
    "def draw_cell(game,line,size=3):\n",
    "    print('# '+ str(game[line][0])+' ' + '|' + ' ' + str(game[line][1]) +' '  + '|' + ' ' + str(game[line][2]) +' ' + '#')\n",
    "\n",
    "def draw_hz_limit(size=3):\n",
    "    print('#---' + ('+' + '---')*(size-1) + '#')\n",
    "    \n",
    "def draw_board(game, size=3):\n",
    "    draw_border(size)\n",
    "    draw_cell(game, 0,size)\n",
    "    for i in range(size-1):\n",
    "        draw_hz_limit(size)\n",
    "        draw_cell(game,i+1,size)\n",
    "    draw_border(size)\n",
    "    \n",
    "\n",
    "moves = 0\n",
    "board_limit = len(game[0])-1\n",
    "player = 2\n",
    "finished = False\n",
    "while not finished:\n",
    "    moves += 1\n",
    "    player = ((player)%2) + 1\n",
    "    while True:\n",
    "        try:\n",
    "            x,y = input(\"Your move (1-3,1-3): \").split(',')\n",
    "            print('\"{}\" : \"{}\"'.format(x,y))\n",
    "            x = int(x)-1\n",
    "            y = int(y)-1\n",
    "        except:\n",
    "            pass\n",
    "        else:\n",
    "            print('len game : {}'.format(len(game[0])))\n",
    "            if (x < 0 or x > board_limit) or (y < 0 or y > board_limit):\n",
    "                pass\n",
    "            else:\n",
    "                if player == 1:\n",
    "                    game[x][y] = 'X'\n",
    "                    if check_winner(game, 'X', 'O') != 0:\n",
    "                        finished = True\n",
    "                        break\n",
    "                else:\n",
    "                    game[x][y] = 'O'\n",
    "                    if check_winner(game, 'X', 'O') != 0:\n",
    "                        finished = True\n",
    "                        break\n",
    "                break\n",
    "    print(game)\n",
    "    draw_board(game)\n",
    "    finished = True\n",
    "    for i in range (0, board_limit+1):\n",
    "        for j in range(0, board_limit+1):\n",
    "            if game[i][j] == 0:\n",
    "                finished = False\n",
    "                \n"
   ]
  },
  {
   "cell_type": "markdown",
   "metadata": {
    "collapsed": true
   },
   "source": [
    "## Suite de fibonacci sans récursivité\n",
    "a<sub>n+2</sub> = a<sub>n</sub> + a<sub>n+1</sub>"
   ]
  },
  {
   "cell_type": "code",
   "execution_count": 22,
   "metadata": {
    "collapsed": false
   },
   "outputs": [
    {
     "name": "stdout",
     "output_type": "stream",
     "text": [
      "1\n",
      "2\n",
      "3\n",
      "5\n",
      "8\n",
      "13\n",
      "21\n",
      "34\n",
      "55\n",
      "89\n",
      "144\n",
      "233\n",
      "377\n",
      "610\n",
      "987\n",
      "1\n",
      "2\n",
      "3\n",
      "5\n",
      "8\n",
      "13\n",
      "21\n",
      "34\n",
      "55\n",
      "89\n",
      "144\n",
      "233\n",
      "377\n",
      "610\n",
      "987\n",
      "1597\n",
      "2584\n",
      "4181\n",
      "6765\n",
      "10946\n",
      "17711\n",
      "28657\n",
      "46368\n",
      "75025\n",
      "121393\n",
      "196418\n",
      "317811\n",
      "514229\n",
      "832040\n",
      "1346269\n",
      "2178309\n",
      "3524578\n",
      "5702887\n",
      "9227465\n",
      "14930352\n",
      "24157817\n",
      "39088169\n",
      "63245986\n",
      "102334155\n",
      "165580141\n",
      "267914296\n",
      "433494437\n",
      "701408733\n",
      "1134903170\n",
      "1836311903\n",
      "2971215073\n",
      "4807526976\n",
      "7778742049\n",
      "12586269025\n",
      "20365011074\n",
      "32951280099\n",
      "53316291173\n",
      "86267571272\n",
      "139583862445\n",
      "225851433717\n",
      "365435296162\n",
      "591286729879\n",
      "956722026041\n",
      "1548008755920\n",
      "2504730781961\n",
      "4052739537881\n",
      "6557470319842\n",
      "10610209857723\n",
      "17167680177565\n",
      "27777890035288\n",
      "44945570212853\n",
      "72723460248141\n",
      "117669030460994\n",
      "190392490709135\n",
      "308061521170129\n",
      "498454011879264\n",
      "806515533049393\n",
      "1304969544928657\n",
      "2111485077978050\n",
      "3416454622906707\n",
      "5527939700884757\n",
      "8944394323791464\n",
      "14472334024676221\n",
      "23416728348467685\n",
      "37889062373143906\n",
      "61305790721611591\n",
      "99194853094755497\n",
      "160500643816367088\n",
      "259695496911122585\n",
      "420196140727489673\n",
      "679891637638612258\n",
      "1100087778366101931\n",
      "1779979416004714189\n",
      "2880067194370816120\n",
      "4660046610375530309\n",
      "7540113804746346429\n",
      "12200160415121876738\n",
      "19740274219868223167\n",
      "31940434634990099905\n",
      "51680708854858323072\n",
      "83621143489848422977\n",
      "135301852344706746049\n",
      "218922995834555169026\n",
      "354224848179261915075\n",
      "573147844013817084101\n"
     ]
    }
   ],
   "source": [
    "a1 = 0\n",
    "a2 = 1\n",
    "\n",
    "for i in range(15):\n",
    "    a3 = a1 + a2\n",
    "    a1 = a2\n",
    "    a2 = a3\n",
    "    print(a3)\n",
    "\n",
    "\n",
    "# with a generator... \n",
    "def next_fibo():\n",
    "    a1 = 0\n",
    "    a2 = 1\n",
    "\n",
    "    while True:\n",
    "        a3 = a1 + a2\n",
    "        a1 = a2\n",
    "        a2 = a3\n",
    "        yield a3\n",
    "    \n",
    "fibo = next_fibo()\n",
    "for i in range(100):\n",
    "    print(next(fibo))"
   ]
  },
  {
   "cell_type": "markdown",
   "metadata": {},
   "source": [
    "----\n",
    "## Max of three\n",
    "http://www.practicepython.org/exercise/2016/03/27/28-max-of-three.html\n"
   ]
  },
  {
   "cell_type": "code",
   "execution_count": null,
   "metadata": {
    "collapsed": false
   },
   "outputs": [],
   "source": [
    "def max_of_n(*arg):\n",
    "    print('received {} args', len(arg))\n",
    "    print('args : ', arg)\n",
    "    max = arg[0]\n",
    "    for i in arg[1:]:\n",
    "        if i > max:\n",
    "            max = i\n",
    "    return max\n",
    "    \n",
    "a,b,c= input(\"please give me 3 integers : \").split(' ')\n",
    "print(a,b,c)\n",
    "max_of_n(a,b,c)\n",
    "\n"
   ]
  },
  {
   "cell_type": "markdown",
   "metadata": {},
   "source": [
    "----\n",
    "\n",
    "## Pick a word : \n",
    "http://www.practicepython.org/exercise/2016/09/24/30-pick-word.html"
   ]
  },
  {
   "cell_type": "code",
   "execution_count": 15,
   "metadata": {
    "collapsed": false,
    "scrolled": false
   },
   "outputs": [
    {
     "name": "stdout",
     "output_type": "stream",
     "text": [
      "number of words :  267752\n",
      "a random word in this list is :  ADROITER\n",
      "COMMOVES\n",
      "a random word in this list is :  OVERGRAZING\n",
      "CARBONISE\n",
      "a random word in this list is :  PROTEGE\n",
      "RECOGNIZORS\n",
      "a random word in this list is :  GRANTEE\n",
      "FOAMFLOWERS\n",
      "a random word in this list is :  CANALISING\n",
      "MACHISMOS\n",
      "a random word in this list is :  CONCENTRATED\n",
      "EDEMATA\n",
      "a random word in this list is :  INOPERABLE\n",
      "PROLATION\n",
      "a random word in this list is :  DISINTERRED\n",
      "CHOLI\n",
      "a random word in this list is :  SETTLING\n",
      "UNFORTUNATES\n",
      "a random word in this list is :  MORTISE\n",
      "PITCHPOLE\n",
      "Total letters :  2439263\n",
      "A : 188703 : 7.736066180645547%\n",
      "B : 44953 : 1.8428927098061998%\n",
      "C : 98230 : 4.02703603506469%\n",
      "D : 81731 : 3.3506432065751004%\n",
      "E : 275582 : 11.297756740458082%\n",
      "F : 28930 : 1.1860139722530945%\n",
      "G : 67910 : 2.7840376375979137%\n",
      "H : 60702 : 2.4885385462740177%\n",
      "I : 220483 : 9.03891872258137%\n",
      "J : 4010 : 0.16439391734306633%\n",
      "K : 22075 : 0.9049864651741121%\n",
      "L : 127865 : 5.241952179818248%\n",
      "M : 70700 : 2.8984164479189003%\n",
      "N : 163637 : 6.708460711288615%\n",
      "O : 161752 : 6.631183271340564%\n",
      "P : 73286 : 3.0044320764099646%\n",
      "Q : 4104 : 0.16824754034312825%\n",
      "R : 170521 : 6.990677102059105%\n",
      "S : 234672 : 9.620610815643905%\n",
      "T : 159471 : 6.5376714196050205%\n",
      "U : 80636 : 3.3057525982233162%\n",
      "V : 22521 : 0.9232706764297249%\n",
      "W : 18393 : 0.7540392323419%\n",
      "X : 6852 : 0.28090451911089537%\n",
      "Y : 39772 : 1.630492488919809%\n",
      "Z : 11772 : 0.48260478677370994%\n"
     ]
    },
    {
     "data": {
      "image/png": "[encoded data removed]",
      "text/plain": [
       "<matplotlib.figure.Figure at 0x1def43f9320>"
      ]
     },
     "metadata": {},
     "output_type": "display_data"
    }
   ],
   "source": [
    "import numpy as np\n",
    "import random as rnd\n",
    "import matplotlib.pyplot as plt\n",
    "%matplotlib inline  \n",
    "\n",
    "words=[]\n",
    "\n",
    "with open('sowpods.txt') as f:\n",
    "    #words = f.readlines()\n",
    "    # better to remove all garbage like \\n\n",
    "    line = f.readline();\n",
    "    words.append(line.rstrip())\n",
    "    while line:\n",
    "        line = f.readline();\n",
    "        words.append(line.rstrip())\n",
    "    \n",
    "print('number of words : ', len(words))\n",
    "\n",
    "for i in range(10):\n",
    "    print('a random word in this list is : ', words[rnd.randint(1,len(words))])\n",
    "    # or better because simpler:\n",
    "    print(rnd.choice(words))\n",
    "    \n",
    "#test = words[1:100]\n",
    "    \n",
    "# merge all words into one\n",
    "letters = ''.join(words)\n",
    "\n",
    "print('Total letters : ', len(letters))\n",
    "alpha = 'ABCDEFGHIJKLMNOPQRSTUVWXYZ'\n",
    "letter_stats = []\n",
    "for l in alpha:\n",
    "    print('{} : {} : {}%'.format(l, letters.count(l), letters.count(l)/len(letters)*100))\n",
    "    letter_stats.append(letters.count(l))\n",
    "    \n",
    "\n",
    "fig, ax = plt.subplots()\n",
    "ind = np.arange(len(alpha))  # the x locations for the groups\n",
    "width = 0.5       # the width of the bars\n",
    "rects1 = ax.bar(ind, letter_stats, width, color='r')\n",
    "\n",
    "# add some text for labels, title and axes ticks\n",
    "ax.set_ylabel('Occurences')\n",
    "ax.set_title('Occurences of letters in english words')\n",
    "ax.set_xticks(ind + width / 2)\n",
    "ax.set_xticklabels((list(alpha)))\n",
    "\n",
    "#ax.legend((rects1[0]), ('Letters'))\n",
    "\n",
    "plt.show()"
   ]
  },
  {
   "cell_type": "code",
   "execution_count": null,
   "metadata": {
    "collapsed": true
   },
   "outputs": [],
   "source": []
  },
  {
   "cell_type": "code",
   "execution_count": null,
   "metadata": {
    "collapsed": true
   },
   "outputs": [],
   "source": []
  }
 ],
 "metadata": {
  "kernelspec": {
   "display_name": "Python 3",
   "language": "python",
   "name": "python3"
  },
  "language_info": {
   "codemirror_mode": {
    "name": "ipython",
    "version": 3
   },
   "file_extension": ".py",
   "mimetype": "text/x-python",
   "name": "python",
   "nbconvert_exporter": "python",
   "pygments_lexer": "ipython3",
   "version": "3.5.2"
  }
 },
 "nbformat": 4,
 "nbformat_minor": 1
}
